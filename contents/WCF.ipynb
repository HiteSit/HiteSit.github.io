{
 "cells": [
  {
   "cell_type": "code",
   "execution_count": 152,
   "id": "f6fa5a2b-6873-4504-ac59-d7355a4e332b",
   "metadata": {},
   "outputs": [],
   "source": [
    "from functools import reduce\n",
    "import pdb\n",
    "\n",
    "import MDAnalysis as mda\n",
    "from MDAnalysis.tests.datafiles import PDB_small\n",
    "from MDAnalysis.analysis import distances\n",
    "from MDAnalysis.analysis import contacts\n",
    "\n",
    "import pandas as pd\n",
    "import numpy as np\n",
    "import matplotlib.pyplot as plt\n",
    "%matplotlib inline"
   ]
  },
  {
   "cell_type": "code",
   "execution_count": 2,
   "id": "fbd9e478",
   "metadata": {},
   "outputs": [],
   "source": [
    "def calculate_bin(u):\n",
    "    \n",
    "    # Selections\n",
    "    sel_Pro1 = \"resid 227\"\n",
    "    sel_Phe2 = \"resid 228\"\n",
    "    sel_Lys32 = \"resid 335\"\n",
    "    sel_Arg36 = \"resid 262\"\n",
    "    sel_Ser50 = \"resid 163\"\n",
    "    sel_Ile64 = \"resid 333\"\n",
    "    sel_Leu96 = \"resid 209\"\n",
    "    sel_Ile107 = \"resid 208\"\n",
    "    sel_lig = \"resname NON1\"\n",
    "\n",
    "    # Selections in MD analysis format\n",
    "    Pro1 = u.select_atoms(sel_Pro1)\n",
    "    Phe2 = u.select_atoms(sel_Phe2)\n",
    "    Lys32 = u.select_atoms(sel_Lys32)\n",
    "    Arg36 = u.select_atoms(sel_Arg36)\n",
    "    Ser50 = u.select_atoms(sel_Ser50)\n",
    "    Ile64 = u.select_atoms(sel_Ile64)\n",
    "    Leu96 = u.select_atoms(sel_Leu96)\n",
    "    Ile107 = u.select_atoms(sel_Ile107)\n",
    "    lig = u.select_atoms(sel_lig)\n",
    "\n",
    "    def contacts_within_cutoff(u, group_a, group_b, radius=4.5):\n",
    "        timeseries = []\n",
    "        for ts in u.trajectory:\n",
    "            # calculate distances between group_a and group_b\n",
    "            dist = contacts.distance_array(group_a.positions, group_b.positions)\n",
    "            # determine which distances <= radius\n",
    "            n_contacts = contacts.contact_matrix(dist, radius).sum()\n",
    "            timeseries.append(n_contacts)\n",
    "        return np.array(timeseries)\n",
    "    \n",
    "    # Create DataFrame just with the frame number\n",
    "    frames = []\n",
    "    for ts in u.trajectory:\n",
    "        frames.append(ts.frame)\n",
    "\n",
    "    df = pd.DataFrame(frames, columns=[\"Frame\"])\n",
    "    \n",
    "    contact_Pro1 = contacts_within_cutoff(u, lig, Pro1, radius=2.5)\n",
    "    contact_Phe2 = contacts_within_cutoff(u, lig, Phe2, radius=2.5)\n",
    "    contact_Lys32 = contacts_within_cutoff(u, lig, Lys32, radius=2.5)\n",
    "    contact_Arg36 = contacts_within_cutoff(u, lig, Arg36, radius=2.5)\n",
    "    contact_Ser50 = contacts_within_cutoff(u, lig, Ser50, radius=2.5)\n",
    "    contact_Ile64 = contacts_within_cutoff(u, lig, Ile64, radius=2.5)\n",
    "    contact_Leu96 = contacts_within_cutoff(u, lig, Leu96, radius=2.5)\n",
    "    contact_Ile107 = contacts_within_cutoff(u, lig, Ile107, radius=2.5)\n",
    "\n",
    "    contact_Pro1 = np.where(contact_Pro1 == 0, 0, 1)\n",
    "    contact_Phe2 = np.where(contact_Phe2 == 0, 0, 1)\n",
    "    contact_Lys32 = np.where(contact_Lys32 == 0, 0, 1)\n",
    "    contact_Arg36 = np.where(contact_Arg36 == 0, 0, 1)\n",
    "    contact_Ser50 = np.where(contact_Ser50 == 0, 0, 1)\n",
    "    contact_Ile64 = np.where(contact_Ile64 == 0, 0, 1)\n",
    "    contact_Leu96 = np.where(contact_Leu96 == 0, 0, 1)\n",
    "    contact_Ile107 = np.where(contact_Ile107 == 0, 0, 1)\n",
    "\n",
    "    # Assign columns to DataFrame\n",
    "    df_bin = df.assign(Pro1 = contact_Pro1,\n",
    "                        Phe2 = contact_Phe2,\n",
    "                        Lys32 = contact_Lys32,\n",
    "                        Arg36 = contact_Arg36,\n",
    "                        Ser50 = contact_Ser50,\n",
    "                        Ile64 = contact_Ile64,\n",
    "                        Leu96 = contact_Leu96,\n",
    "                        Ile107 = contact_Ile107\n",
    "                        )\n",
    "\n",
    "    return df_bin\n",
    "        "
   ]
  },
  {
   "cell_type": "code",
   "execution_count": 159,
   "id": "56955c4e",
   "metadata": {},
   "outputs": [],
   "source": [
    "def calculate_CF_WCF(df_bin,compound_name):\n",
    "    # Enviromental variable\n",
    "    column_names = df_bin.columns.values.tolist()\n",
    "\n",
    "    column_names.pop(0)\n",
    "    frames = df_bin[\"Frame\"].values.tolist()\n",
    "\n",
    "    CF = []\n",
    "    for name in column_names:\n",
    "        CF_raw = df_bin[name].value_counts()[1] / len(df_bin.index)\n",
    "        CF.append(round(CF_raw, 2))\n",
    "\n",
    "    CF_zip = list(zip(column_names, CF))\n",
    "\n",
    "    # Calculate CF\n",
    "    df_CF = pd.DataFrame(CF_zip, columns=[\"Residue\",\"CF_\" + compound_name])\n",
    "\n",
    "    # Calculate WCF\n",
    "    df_WCF = pd.DataFrame(frames,columns=[\"Frame\"])\n",
    "\n",
    "    for name, CF in CF_zip:\n",
    "        df_WCF[name + \"_CF\"] = df_bin[name] * CF\n",
    "    \n",
    "    df_WCF.set_index(\"Frame\",inplace=True)\n",
    "    df_WCF[\"WCF\"] = df_WCF.sum(axis=1)\n",
    "    df_WCF.sort_values(\"WCF\",ascending=False,inplace=True)\n",
    "    \n",
    "    return df_CF, df_WCF\n"
   ]
  },
  {
   "cell_type": "code",
   "execution_count": 154,
   "id": "aa6d463d",
   "metadata": {},
   "outputs": [],
   "source": [
    "u_BDF_05 = mda.Universe(\"complex_sorted_BDF-05_clean.gro\",\"trj_BDF-05.xtc\")\n",
    "u_BDF_12 = mda.Universe(\"complex_sorted_BDF-12_clean.gro\",\"trj_BDF-12.xtc\")"
   ]
  },
  {
   "cell_type": "code",
   "execution_count": 155,
   "id": "eaf6c492",
   "metadata": {},
   "outputs": [],
   "source": [
    "df_bin_BDF_05 = calculate_bin(u_BDF_05)\n",
    "df_bin_BDF_12 = calculate_bin(u_BDF_12)"
   ]
  },
  {
   "cell_type": "code",
   "execution_count": 164,
   "id": "cc02b66f",
   "metadata": {},
   "outputs": [],
   "source": [
    "data_frames = [calculate_CF_WCF(df_bin_BDF_05, \"BDF-05\")[0], calculate_CF_WCF(df_bin_BDF_12, \"BDF-12\")[0]]\n",
    "\n",
    "df_merged = reduce(lambda left,right: pd.merge(left,right,on=['Residue'],suffixes=[None,None]), data_frames)"
   ]
  },
  {
   "cell_type": "code",
   "execution_count": 166,
   "id": "cbb10c7a",
   "metadata": {},
   "outputs": [
    {
     "data": {
      "text/plain": [
       "<matplotlib.axes._subplots.AxesSubplot at 0x1ff8d2abe08>"
      ]
     },
     "execution_count": 166,
     "metadata": {},
     "output_type": "execute_result"
    },
    {
     "data": {
      "image/png": "[encoded data removed]",
      "text/plain": [
       "<Figure size 640x480 with 1 Axes>"
      ]
     },
     "metadata": {},
     "output_type": "display_data"
    }
   ],
   "source": [
    "df_merged.plot(x=\"Residue\",kind=\"bar\")"
   ]
  },
  {
   "cell_type": "code",
   "execution_count": null,
   "id": "773dcc0c",
   "metadata": {},
   "outputs": [],
   "source": []
  }
 ],
 "metadata": {
  "kernelspec": {
   "display_name": "cheminf",
   "language": "python",
   "name": "python3"
  },
  "language_info": {
   "codemirror_mode": {
    "name": "ipython",
    "version": 3
   },
   "file_extension": ".py",
   "mimetype": "text/x-python",
   "name": "python",
   "nbconvert_exporter": "python",
   "pygments_lexer": "ipython3",
   "version": "3.7.15"
  },
  "vscode": {
   "interpreter": {
    "hash": "aed69fb8b03073559f4bd54f6cae18f1ae223d3d163a74e2b892e794a0b098e3"
   }
  }
 },
 "nbformat": 4,
 "nbformat_minor": 5
}
